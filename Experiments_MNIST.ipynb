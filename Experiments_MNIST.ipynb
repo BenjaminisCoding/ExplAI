{
 "cells": [
  {
   "cell_type": "code",
   "execution_count": 1,
   "metadata": {},
   "outputs": [
    {
     "name": "stderr",
     "output_type": "stream",
     "text": [
      "c:\\Users\\benja\\anaconda3\\envs\\ExplAI\\lib\\site-packages\\tqdm\\auto.py:21: TqdmWarning: IProgress not found. Please update jupyter and ipywidgets. See https://ipywidgets.readthedocs.io/en/stable/user_install.html\n",
      "  from .autonotebook import tqdm as notebook_tqdm\n"
     ]
    }
   ],
   "source": [
    "import torch\n",
    "from pathlib import Path\n",
    "from torchvision.datasets import MNIST\n",
    "from torch.utils.data import DataLoader, Subset\n",
    "from torchvision import transforms\n",
    "from torch.nn import MSELoss\n",
    "from captum.attr import GradientShap, IntegratedGradients, Saliency\n",
    "import matplotlib.pyplot as plt \n",
    "import pathlib\n",
    "import torch.nn.functional as F\n",
    "\n",
    "from lfxai.models.images import AutoEncoderMnist, EncoderMnist, DecoderMnist, ClassifierMnist\n",
    "from lfxai.models.pretext import Identity\n",
    "from lfxai.explanations.features import attribute_auxiliary, attribute_auxiliary_v2\n",
    "from lfxai.explanations.examples import SimplEx\n",
    "\n",
    "from tqdm import tqdm\n",
    "from Experiments_MNIST import compute_vector_direction, find_border, shift_image_horizontally\n",
    "from scores import Cosine, Score_Direction_dot\n",
    "import numpy as np\n",
    "\n",
    "%load_ext autoreload\n",
    "%autoreload 2"
   ]
  },
  {
   "cell_type": "markdown",
   "metadata": {},
   "source": [
    "# Loading/Training the model"
   ]
  },
  {
   "cell_type": "code",
   "execution_count": 2,
   "metadata": {},
   "outputs": [],
   "source": [
    "\n",
    "# Select torch device\n",
    "device = torch.device(\"cuda\") if torch.cuda.is_available() else torch.device(\"cpu\")\n",
    "\n",
    "# Load data\n",
    "data_dir = Path.cwd() / \"data/mnist\"\n",
    "train_dataset = MNIST(data_dir, train=True, download=True)\n",
    "test_dataset = MNIST(data_dir, train=False, download=True)\n",
    "train_dataset.transform = transforms.Compose([transforms.ToTensor()])\n",
    "test_dataset.transform = transforms.Compose([transforms.ToTensor()])\n",
    "train_loader = DataLoader(train_dataset, batch_size=100)\n",
    "test_loader = DataLoader(test_dataset, batch_size=100, shuffle=False)"
   ]
  },
  {
   "cell_type": "code",
   "execution_count": 3,
   "metadata": {},
   "outputs": [
    {
     "data": {
      "text/plain": [
       "ClassifierMnist(\n",
       "  (encoder): EncoderMnist(\n",
       "    (encoder_cnn): Sequential(\n",
       "      (0): Conv2d(1, 8, kernel_size=(3, 3), stride=(2, 2), padding=(1, 1))\n",
       "      (1): ReLU(inplace=True)\n",
       "      (2): Conv2d(8, 16, kernel_size=(3, 3), stride=(2, 2), padding=(1, 1))\n",
       "      (3): BatchNorm2d(16, eps=1e-05, momentum=0.1, affine=True, track_running_stats=True)\n",
       "      (4): ReLU(inplace=True)\n",
       "      (5): Conv2d(16, 32, kernel_size=(3, 3), stride=(2, 2))\n",
       "      (6): ReLU(inplace=True)\n",
       "    )\n",
       "    (flatten): Flatten(start_dim=1, end_dim=-1)\n",
       "    (encoder_lin): Sequential(\n",
       "      (0): Linear(in_features=288, out_features=128, bias=True)\n",
       "      (1): ReLU(inplace=True)\n",
       "      (2): Linear(in_features=128, out_features=10, bias=True)\n",
       "    )\n",
       "  )\n",
       "  (encoder_cnn): Sequential(\n",
       "    (0): Conv2d(1, 8, kernel_size=(3, 3), stride=(2, 2), padding=(1, 1))\n",
       "    (1): ReLU(inplace=True)\n",
       "    (2): Conv2d(8, 16, kernel_size=(3, 3), stride=(2, 2), padding=(1, 1))\n",
       "    (3): BatchNorm2d(16, eps=1e-05, momentum=0.1, affine=True, track_running_stats=True)\n",
       "    (4): ReLU(inplace=True)\n",
       "    (5): Conv2d(16, 32, kernel_size=(3, 3), stride=(2, 2))\n",
       "    (6): ReLU(inplace=True)\n",
       "  )\n",
       "  (flatten): Flatten(start_dim=1, end_dim=-1)\n",
       "  (encoder_lin): Sequential(\n",
       "    (0): Linear(in_features=288, out_features=128, bias=True)\n",
       "    (1): ReLU(inplace=True)\n",
       "    (2): Linear(in_features=128, out_features=10, bias=True)\n",
       "  )\n",
       "  (lin_output): Sequential(\n",
       "    (0): Linear(in_features=10, out_features=10, bias=True)\n",
       "    (1): Softmax(dim=-1)\n",
       "  )\n",
       "  (loss_f): CrossEntropyLoss()\n",
       ")"
      ]
     },
     "execution_count": 3,
     "metadata": {},
     "output_type": "execute_result"
    }
   ],
   "source": [
    "# Get a model\n",
    "encoder = EncoderMnist(encoded_space_dim=10)\n",
    "# decoder = DecoderMnist(encoded_space_dim=10)\n",
    "# model = AutoEncoderMnist(encoder, decoder, latent_dim=10, input_pert=Identity())\n",
    "# model = ClassifierMnist(encoder, latent_dim=10, name = 'sym', bias = False)\n",
    "model = ClassifierMnist(encoder, latent_dim=10, name = 'sym', bias = True)\n",
    "model.to(device)"
   ]
  },
  {
   "cell_type": "code",
   "execution_count": 68,
   "metadata": {},
   "outputs": [],
   "source": [
    "### fit or save\n",
    "# model.fit(device, train_loader, test_loader, save_dir = pathlib.Path('.'))\n",
    "model.load(directory='./sym.pt')\n",
    "# model.load(directory='sym_nobias.pt')\n",
    "weight_matrix = model.lin_output[0].weight.detach()\n",
    "vector_directions = compute_vector_direction(weight_matrix)"
   ]
  },
  {
   "cell_type": "code",
   "execution_count": 5,
   "metadata": {},
   "outputs": [
    {
     "data": {
      "text/plain": [
       "(1.4735445, 0.9879999999999999)"
      ]
     },
     "execution_count": 5,
     "metadata": {},
     "output_type": "execute_result"
    }
   ],
   "source": [
    "model.test_epoch(device, test_loader) ### the testing accuracy is quite good, no need to further train it I think"
   ]
  },
  {
   "cell_type": "markdown",
   "metadata": {},
   "source": [
    "# Observe the saliency maps"
   ]
  },
  {
   "cell_type": "code",
   "execution_count": 69,
   "metadata": {},
   "outputs": [],
   "source": [
    "baseline = torch.zeros((1, 1, 28, 28)).to(device) # black image as baseline\n",
    "\n",
    "\n",
    "### choose your feature importance method \n",
    "\n",
    "\n",
    "# attr_method = IntegratedGradients(model)\n",
    "# attr_method = Saliency(model)\n",
    "attr_method = GradientShap(model)"
   ]
  },
  {
   "cell_type": "code",
   "execution_count": 81,
   "metadata": {},
   "outputs": [
    {
     "name": "stderr",
     "output_type": "stream",
     "text": [
      "100%|██████████| 100/100 [00:04<00:00, 23.07it/s]\n",
      "100%|██████████| 100/100 [00:02<00:00, 34.11it/s]\n"
     ]
    }
   ],
   "source": [
    "### compute the saliency maps \n",
    "\n",
    "feature_importance_initial = attribute_auxiliary(encoder, test_loader,\n",
    "                                         device, attr_method, baseline)\n",
    "\n",
    "feature_importance = attribute_auxiliary_v2(encoder, test_loader,\n",
    "                                         device, attr_method, vector_directions, baseline)"
   ]
  },
  {
   "cell_type": "code",
   "execution_count": 89,
   "metadata": {},
   "outputs": [
    {
     "name": "stderr",
     "output_type": "stream",
     "text": [
      "100%|██████████| 100/100 [00:04<00:00, 23.41it/s]\n",
      "100%|██████████| 100/100 [00:02<00:00, 36.24it/s]\n"
     ]
    }
   ],
   "source": [
    "### compute the saliency maps \n",
    "\n",
    "feature_importance_initial = attribute_auxiliary(encoder, test_loader,\n",
    "                                         device, attr_method, baseline)\n",
    "\n",
    "feature_importance = attribute_auxiliary_v2(encoder, test_loader,\n",
    "                                         device, attr_method, vector_directions, baseline)"
   ]
  },
  {
   "cell_type": "code",
   "execution_count": 8,
   "metadata": {},
   "outputs": [
    {
     "data": {
      "image/png": "[encoded data removed]",
      "text/plain": [
       "<Figure size 1200x500 with 8 Axes>"
      ]
     },
     "metadata": {},
     "output_type": "display_data"
    }
   ],
   "source": [
    "\n",
    "# Assuming feature_importance_initial is a list/array of images\n",
    "idx = [0, 10, 40, 80]\n",
    "# Create a figure and axis objects\n",
    "fig, axes = plt.subplots(2, len(idx), figsize=(12, 5))\n",
    "\n",
    "# Plot each image in the specified indices\n",
    "for i, index in enumerate(idx):\n",
    "    axes[0,i].imshow(feature_importance_initial[index, 0])\n",
    "    # axes[0,i].set_title(f'Index {index}')  # Optional: Set title for each subplot\n",
    "    axes[0,i].axis('off')  # Optional: Turn off axis for each subplot\n",
    "\n",
    "for i, index in enumerate(idx):\n",
    "    axes[1,i].imshow(feature_importance[index, 0])\n",
    "    #axes[i].set_title(f'Index {index}')  # Optional: Set title for each subplot\n",
    "    axes[1,i].axis('off')  # Optional: Turn off axis for each subplot\n",
    "    \n",
    "    # Set titles for the rows\n",
    "\n",
    "\n",
    "plt.subplots_adjust(wspace=0, hspace=0.001)\n",
    "plt.tight_layout()\n",
    "\n",
    "plt.show()\n"
   ]
  },
  {
   "cell_type": "markdown",
   "metadata": {},
   "source": [
    "# Study the symmetries"
   ]
  },
  {
   "cell_type": "code",
   "execution_count": 72,
   "metadata": {},
   "outputs": [],
   "source": [
    "from Experiments_MNIST import evolution_symmetry, plot_res"
   ]
  },
  {
   "cell_type": "code",
   "execution_count": 73,
   "metadata": {},
   "outputs": [],
   "source": [
    "test_loader_bs1 = DataLoader(test_dataset, batch_size=1, shuffle=False)"
   ]
  },
  {
   "cell_type": "code",
   "execution_count": 74,
   "metadata": {},
   "outputs": [
    {
     "name": "stderr",
     "output_type": "stream",
     "text": [
      "100%|██████████| 10000/10000 [00:40<00:00, 247.38it/s]\n"
     ]
    }
   ],
   "source": [
    "L_scores = [Cosine(), Score_Direction_dot(vector_directions)] ### \n",
    "res = evolution_symmetry(test_loader_bs1, L_scores, model, device)"
   ]
  },
  {
   "cell_type": "code",
   "execution_count": 80,
   "metadata": {},
   "outputs": [
    {
     "data": {
      "image/png": "[encoded data removed]",
      "text/plain": [
       "<Figure size 640x480 with 1 Axes>"
      ]
     },
     "metadata": {},
     "output_type": "display_data"
    }
   ],
   "source": [
    "plot_res(res, 'losses', H = 5, H_max = 7)"
   ]
  }
 ],
 "metadata": {
  "kernelspec": {
   "display_name": "ExplAI",
   "language": "python",
   "name": "python3"
  },
  "language_info": {
   "codemirror_mode": {
    "name": "ipython",
    "version": 3
   },
   "file_extension": ".py",
   "mimetype": "text/x-python",
   "name": "python",
   "nbconvert_exporter": "python",
   "pygments_lexer": "ipython3",
   "version": "3.8.18"
  }
 },
 "nbformat": 4,
 "nbformat_minor": 2
}
